{
 "cells": [
  {
   "cell_type": "markdown",
   "metadata": {
    "tags": []
   },
   "source": [
    "# Project 3 WebScrape Portion"
   ]
  },
  {
   "cell_type": "code",
   "execution_count": 1,
   "metadata": {
    "tags": []
   },
   "outputs": [],
   "source": [
    "#Import needed libraries\n",
    "from splinter import Browser\n",
    "from bs4 import BeautifulSoup\n",
    "import time\n",
    "from selenium.webdriver.common.by import By\n",
    "from selenium.webdriver.support.ui import WebDriverWait\n",
    "from selenium.webdriver.support import expected_conditions as EC\n",
    "import pprint\n",
    "import pandas as pd \n",
    "import json\n",
    "import os"
   ]
  },
  {
   "cell_type": "code",
   "execution_count": 2,
   "metadata": {
    "tags": []
   },
   "outputs": [],
   "source": [
    "browser = Browser('chrome')"
   ]
  },
  {
   "cell_type": "code",
   "execution_count": 3,
   "metadata": {
    "tags": []
   },
   "outputs": [],
   "source": [
    "# Open the BEA website to the correct data, wait for it to load, click the button to open the table.\n",
    "time.sleep(5)\n",
    "\n",
    "url = \"https://apps.bea.gov/itable/?ReqID=99&step=1#eyJhcHBpZCI6OTksInN0ZXBzIjpbMSwyOSwyNSwyNiwyNyw0MF0sImRhdGEiOltbIlRhYmxlSWQiLCIyMCJdLFsiTWFqb3JBcmVhS2V5IiwiNCJdLFsiTGluZSIsIjMiXSxbIlN0YXRlIiwiNDgwMDAiXSxbIlVuaXRfb2ZfTWVhc3VyZSIsIkxldmVscyJdLFsiTWFwQ29sb3IiLCJCRUFTdGFuZGFyZCJdLFsiblJhbmdlIiwiNSJdLFsiWWVhciIsIjIwMjEiXSxbIlllYXJCZWdpbiIsIi0xIl0sWyJZZWFyRW5kIiwiLTEiXV19\"\n",
    "\n",
    "browser.visit(url)\n",
    "\n",
    "\n",
    "# Wait for the button to be clickable\n",
    "button = WebDriverWait(browser.driver, 10).until(\n",
    "EC.element_to_be_clickable((By.ID, 'ShowTableBtn')))\n",
    "button.click()\n",
    "\n",
    "\n",
    "\n",
    "\n"
   ]
  },
  {
   "cell_type": "code",
   "execution_count": 4,
   "metadata": {
    "tags": []
   },
   "outputs": [],
   "source": [
    "# Parse the website\n",
    "html = browser.html\n",
    "soup = BeautifulSoup(html, 'html.parser')"
   ]
  },
  {
   "cell_type": "code",
   "execution_count": 5,
   "metadata": {
    "tags": []
   },
   "outputs": [],
   "source": [
    "# Find the table\n",
    "table = soup.find(\"table\", id=\"DataTbl\")"
   ]
  },
  {
   "cell_type": "code",
   "execution_count": 6,
   "metadata": {
    "tags": []
   },
   "outputs": [
    {
     "name": "stdout",
     "output_type": "stream",
     "text": [
      "[{'GeoFips': '48000', 'County': 'Texas', '2021_Income': '59,865'}, {'GeoFips': '48001', 'County': 'Anderson, TX', '2021_Income': '42,444'}, {'GeoFips': '48003', 'County': 'Andrews, TX', '2021_Income': '52,943'}, {'GeoFips': '48005', 'County': 'Angelina, TX', '2021_Income': '46,170'}, {'GeoFips': '48007', 'County': 'Aransas, TX', '2021_Income': '59,878'}, {'GeoFips': '48009', 'County': 'Archer, TX', '2021_Income': '60,101'}, {'GeoFips': '48011', 'County': 'Armstrong, TX', '2021_Income': '61,382'}, {'GeoFips': '48013', 'County': 'Atascosa, TX', '2021_Income': '46,737'}, {'GeoFips': '48015', 'County': 'Austin, TX', '2021_Income': '58,284'}, {'GeoFips': '48017', 'County': 'Bailey, TX', '2021_Income': '51,709'}, {'GeoFips': '48019', 'County': 'Bandera, TX', '2021_Income': '58,706'}, {'GeoFips': '48021', 'County': 'Bastrop, TX', '2021_Income': '44,230'}, {'GeoFips': '48023', 'County': 'Baylor, TX', '2021_Income': '58,779'}, {'GeoFips': '48025', 'County': 'Bee, TX', '2021_Income': '34,738'}, {'GeoFips': '48027', 'County': 'Bell, TX', '2021_Income': '49,405'}, {'GeoFips': '48029', 'County': 'Bexar, TX', '2021_Income': '51,780'}, {'GeoFips': '48031', 'County': 'Blanco, TX', '2021_Income': '66,088'}, {'GeoFips': '48033', 'County': 'Borden, TX', '2021_Income': '101,470'}, {'GeoFips': '48035', 'County': 'Bosque, TX', '2021_Income': '50,943'}, {'GeoFips': '48037', 'County': 'Bowie, TX', '2021_Income': '47,792'}, {'GeoFips': '48039', 'County': 'Brazoria, TX', '2021_Income': '56,360'}, {'GeoFips': '48041', 'County': 'Brazos, TX', '2021_Income': '46,702'}, {'GeoFips': '48043', 'County': 'Brewster, TX', '2021_Income': '53,014'}, {'GeoFips': '48045', 'County': 'Briscoe, TX', '2021_Income': '58,862'}, {'GeoFips': '48047', 'County': 'Brooks, TX', '2021_Income': '43,437'}, {'GeoFips': '48049', 'County': 'Brown, TX', '2021_Income': '46,028'}, {'GeoFips': '48051', 'County': 'Burleson, TX', '2021_Income': '57,482'}, {'GeoFips': '48053', 'County': 'Burnet, TX', '2021_Income': '59,381'}, {'GeoFips': '48055', 'County': 'Caldwell, TX', '2021_Income': '41,642'}, {'GeoFips': '48057', 'County': 'Calhoun, TX', '2021_Income': '60,589'}, {'GeoFips': '48059', 'County': 'Callahan, TX', '2021_Income': '50,963'}, {'GeoFips': '48061', 'County': 'Cameron, TX', '2021_Income': '37,861'}, {'GeoFips': '48063', 'County': 'Camp, TX', '2021_Income': '46,705'}, {'GeoFips': '48065', 'County': 'Carson, TX', '2021_Income': '56,357'}, {'GeoFips': '48067', 'County': 'Cass, TX', '2021_Income': '46,101'}, {'GeoFips': '48069', 'County': 'Castro, TX', '2021_Income': '81,900'}, {'GeoFips': '48071', 'County': 'Chambers, TX', '2021_Income': '60,591'}, {'GeoFips': '48073', 'County': 'Cherokee, TX', '2021_Income': '43,376'}, {'GeoFips': '48075', 'County': 'Childress, TX', '2021_Income': '39,953'}, {'GeoFips': '48077', 'County': 'Clay, TX', '2021_Income': '51,938'}, {'GeoFips': '48079', 'County': 'Cochran, TX', '2021_Income': '62,305'}, {'GeoFips': '48081', 'County': 'Coke, TX', '2021_Income': '48,804'}, {'GeoFips': '48083', 'County': 'Coleman, TX', '2021_Income': '54,822'}, {'GeoFips': '48085', 'County': 'Collin, TX', '2021_Income': '77,006'}, {'GeoFips': '48087', 'County': 'Collingsworth, TX', '2021_Income': '54,140'}, {'GeoFips': '48089', 'County': 'Colorado, TX', '2021_Income': '59,219'}, {'GeoFips': '48091', 'County': 'Comal, TX', '2021_Income': '67,063'}, {'GeoFips': '48093', 'County': 'Comanche, TX', '2021_Income': '50,112'}, {'GeoFips': '48095', 'County': 'Concho, TX', '2021_Income': '38,635'}, {'GeoFips': '48097', 'County': 'Cooke, TX', '2021_Income': '59,800'}, {'GeoFips': '48099', 'County': 'Coryell, TX', '2021_Income': '37,476'}, {'GeoFips': '48101', 'County': 'Cottle, TX', '2021_Income': '73,613'}, {'GeoFips': '48103', 'County': 'Crane, TX', '2021_Income': '54,119'}, {'GeoFips': '48105', 'County': 'Crockett, TX', '2021_Income': '57,013'}, {'GeoFips': '48107', 'County': 'Crosby, TX', '2021_Income': '52,897'}, {'GeoFips': '48109', 'County': 'Culberson, TX', '2021_Income': '71,297'}, {'GeoFips': '48111', 'County': 'Dallam, TX', '2021_Income': '70,511'}, {'GeoFips': '48113', 'County': 'Dallas, TX', '2021_Income': '72,218'}, {'GeoFips': '48115', 'County': 'Dawson, TX', '2021_Income': '46,139'}, {'GeoFips': '48117', 'County': 'Deaf Smith, TX', '2021_Income': '60,615'}, {'GeoFips': '48119', 'County': 'Delta, TX', '2021_Income': '47,471'}, {'GeoFips': '48121', 'County': 'Denton, TX', '2021_Income': '68,773'}, {'GeoFips': '48123', 'County': 'DeWitt, TX', '2021_Income': '66,916'}, {'GeoFips': '48125', 'County': 'Dickens, TX', '2021_Income': '50,869'}, {'GeoFips': '48127', 'County': 'Dimmit, TX', '2021_Income': '55,771'}, {'GeoFips': '48129', 'County': 'Donley, TX', '2021_Income': '50,574'}, {'GeoFips': '48131', 'County': 'Duval, TX', '2021_Income': '51,887'}, {'GeoFips': '48133', 'County': 'Eastland, TX', '2021_Income': '66,400'}, {'GeoFips': '48135', 'County': 'Ector, TX', '2021_Income': '53,610'}, {'GeoFips': '48137', 'County': 'Edwards, TX', '2021_Income': '73,981'}, {'GeoFips': '48139', 'County': 'Ellis, TX', '2021_Income': '53,393'}, {'GeoFips': '48141', 'County': 'El Paso, TX', '2021_Income': '44,064'}, {'GeoFips': '48143', 'County': 'Erath, TX', '2021_Income': '46,906'}, {'GeoFips': '48145', 'County': 'Falls, TX', '2021_Income': '43,658'}, {'GeoFips': '48147', 'County': 'Fannin, TX', '2021_Income': '46,449'}, {'GeoFips': '48149', 'County': 'Fayette, TX', '2021_Income': '65,339'}, {'GeoFips': '48151', 'County': 'Fisher, TX', '2021_Income': '57,245'}, {'GeoFips': '48153', 'County': 'Floyd, TX', '2021_Income': '53,292'}, {'GeoFips': '48155', 'County': 'Foard, TX', '2021_Income': '61,279'}, {'GeoFips': '48157', 'County': 'Fort Bend, TX', '2021_Income': '65,797'}, {'GeoFips': '48159', 'County': 'Franklin, TX', '2021_Income': '51,926'}, {'GeoFips': '48161', 'County': 'Freestone, TX', '2021_Income': '44,014'}, {'GeoFips': '48163', 'County': 'Frio, TX', '2021_Income': '39,898'}, {'GeoFips': '48165', 'County': 'Gaines, TX', '2021_Income': '50,616'}, {'GeoFips': '48167', 'County': 'Galveston, TX', '2021_Income': '60,071'}, {'GeoFips': '48169', 'County': 'Garza, TX', '2021_Income': '36,426'}, {'GeoFips': '48171', 'County': 'Gillespie, TX', '2021_Income': '78,039'}, {'GeoFips': '48173', 'County': 'Glasscock, TX', '2021_Income': '124,963'}, {'GeoFips': '48175', 'County': 'Goliad, TX', '2021_Income': '55,947'}, {'GeoFips': '48177', 'County': 'Gonzales, TX', '2021_Income': '57,578'}, {'GeoFips': '48179', 'County': 'Gray, TX', '2021_Income': '49,815'}, {'GeoFips': '48181', 'County': 'Grayson, TX', '2021_Income': '52,055'}, {'GeoFips': '48183', 'County': 'Gregg, TX', '2021_Income': '52,958'}, {'GeoFips': '48185', 'County': 'Grimes, TX', '2021_Income': '41,914'}, {'GeoFips': '48187', 'County': 'Guadalupe, TX', '2021_Income': '52,190'}, {'GeoFips': '48189', 'County': 'Hale, TX', '2021_Income': '43,543'}, {'GeoFips': '48191', 'County': 'Hall, TX', '2021_Income': '48,706'}, {'GeoFips': '48193', 'County': 'Hamilton, TX', '2021_Income': '77,672'}, {'GeoFips': '48195', 'County': 'Hansford, TX', '2021_Income': '77,093'}, {'GeoFips': '48197', 'County': 'Hardeman, TX', '2021_Income': '54,847'}, {'GeoFips': '48199', 'County': 'Hardin, TX', '2021_Income': '52,544'}, {'GeoFips': '48201', 'County': 'Harris, TX', '2021_Income': '65,869'}, {'GeoFips': '48203', 'County': 'Harrison, TX', '2021_Income': '47,928'}, {'GeoFips': '48205', 'County': 'Hartley, TX', '2021_Income': '75,790'}, {'GeoFips': '48207', 'County': 'Haskell, TX', '2021_Income': '54,321'}, {'GeoFips': '48209', 'County': 'Hays, TX', '2021_Income': '56,097'}, {'GeoFips': '48211', 'County': 'Hemphill, TX', '2021_Income': '75,731'}, {'GeoFips': '48213', 'County': 'Henderson, TX', '2021_Income': '48,594'}, {'GeoFips': '48215', 'County': 'Hidalgo, TX', '2021_Income': '34,503'}, {'GeoFips': '48217', 'County': 'Hill, TX', '2021_Income': '49,968'}, {'GeoFips': '48219', 'County': 'Hockley, TX', '2021_Income': '52,586'}, {'GeoFips': '48221', 'County': 'Hood, TX', '2021_Income': '60,912'}, {'GeoFips': '48223', 'County': 'Hopkins, TX', '2021_Income': '50,272'}, {'GeoFips': '48225', 'County': 'Houston, TX', '2021_Income': '48,835'}, {'GeoFips': '48227', 'County': 'Howard, TX', '2021_Income': '51,007'}, {'GeoFips': '48229', 'County': 'Hudspeth, TX', '2021_Income': '42,500'}, {'GeoFips': '48231', 'County': 'Hunt, TX', '2021_Income': '46,801'}, {'GeoFips': '48233', 'County': 'Hutchinson, TX', '2021_Income': '50,130'}, {'GeoFips': '48235', 'County': 'Irion, TX', '2021_Income': '78,988'}, {'GeoFips': '48237', 'County': 'Jack, TX', '2021_Income': '45,263'}, {'GeoFips': '48239', 'County': 'Jackson, TX', '2021_Income': '51,971'}, {'GeoFips': '48241', 'County': 'Jasper, TX', '2021_Income': '49,475'}, {'GeoFips': '48243', 'County': 'Jeff Davis, TX', '2021_Income': '59,302'}, {'GeoFips': '48245', 'County': 'Jefferson, TX', '2021_Income': '48,243'}, {'GeoFips': '48247', 'County': 'Jim Hogg, TX', '2021_Income': '43,336'}, {'GeoFips': '48249', 'County': 'Jim Wells, TX', '2021_Income': '50,892'}, {'GeoFips': '48251', 'County': 'Johnson, TX', '2021_Income': '51,619'}, {'GeoFips': '48253', 'County': 'Jones, TX', '2021_Income': '38,914'}, {'GeoFips': '48255', 'County': 'Karnes, TX', '2021_Income': '73,144'}, {'GeoFips': '48257', 'County': 'Kaufman, TX', '2021_Income': '49,494'}, {'GeoFips': '48259', 'County': 'Kendall, TX', '2021_Income': '96,628'}, {'GeoFips': '48261', 'County': 'Kenedy, TX', '2021_Income': '47,141'}, {'GeoFips': '48263', 'County': 'Kent, TX', '2021_Income': '55,725'}, {'GeoFips': '48265', 'County': 'Kerr, TX', '2021_Income': '61,401'}, {'GeoFips': '48267', 'County': 'Kimble, TX', '2021_Income': '54,345'}, {'GeoFips': '48269', 'County': 'King, TX', '2021_Income': '91,930'}, {'GeoFips': '48271', 'County': 'Kinney, TX', '2021_Income': '42,929'}, {'GeoFips': '48273', 'County': 'Kleberg, TX', '2021_Income': '45,818'}, {'GeoFips': '48275', 'County': 'Knox, TX', '2021_Income': '50,320'}, {'GeoFips': '48277', 'County': 'Lamar, TX', '2021_Income': '50,699'}, {'GeoFips': '48279', 'County': 'Lamb, TX', '2021_Income': '54,689'}, {'GeoFips': '48281', 'County': 'Lampasas, TX', '2021_Income': '58,507'}, {'GeoFips': '48283', 'County': 'La Salle, TX', '2021_Income': '52,652'}, {'GeoFips': '48285', 'County': 'Lavaca, TX', '2021_Income': '62,375'}, {'GeoFips': '48287', 'County': 'Lee, TX', '2021_Income': '56,674'}, {'GeoFips': '48289', 'County': 'Leon, TX', '2021_Income': '53,179'}, {'GeoFips': '48291', 'County': 'Liberty, TX', '2021_Income': '42,813'}, {'GeoFips': '48293', 'County': 'Limestone, TX', '2021_Income': '47,439'}, {'GeoFips': '48295', 'County': 'Lipscomb, TX', '2021_Income': '102,569'}, {'GeoFips': '48297', 'County': 'Live Oak, TX', '2021_Income': '46,134'}, {'GeoFips': '48299', 'County': 'Llano, TX', '2021_Income': '59,689'}, {'GeoFips': '48301', 'County': 'Loving, TX', '2021_Income': '115,158'}, {'GeoFips': '48303', 'County': 'Lubbock, TX', '2021_Income': '50,881'}, {'GeoFips': '48305', 'County': 'Lynn, TX', '2021_Income': '58,496'}, {'GeoFips': '48307', 'County': 'McCulloch, TX', '2021_Income': '45,744'}, {'GeoFips': '48309', 'County': 'McLennan, TX', '2021_Income': '49,512'}, {'GeoFips': '48311', 'County': 'McMullen, TX', '2021_Income': '110,273'}, {'GeoFips': '48313', 'County': 'Madison, TX', '2021_Income': '40,859'}, {'GeoFips': '48315', 'County': 'Marion, TX', '2021_Income': '47,582'}, {'GeoFips': '48317', 'County': 'Martin, TX', '2021_Income': '84,121'}, {'GeoFips': '48319', 'County': 'Mason, TX', '2021_Income': '57,094'}, {'GeoFips': '48321', 'County': 'Matagorda, TX', '2021_Income': '50,775'}, {'GeoFips': '48323', 'County': 'Maverick, TX', '2021_Income': '38,448'}, {'GeoFips': '48325', 'County': 'Medina, TX', '2021_Income': '50,076'}, {'GeoFips': '48327', 'County': 'Menard, TX', '2021_Income': '47,390'}, {'GeoFips': '48329', 'County': 'Midland, TX', '2021_Income': '126,738'}, {'GeoFips': '48331', 'County': 'Milam, TX', '2021_Income': '45,286'}, {'GeoFips': '48333', 'County': 'Mills, TX', '2021_Income': '51,712'}, {'GeoFips': '48335', 'County': 'Mitchell, TX', '2021_Income': '35,417'}, {'GeoFips': '48337', 'County': 'Montague, TX', '2021_Income': '45,716'}, {'GeoFips': '48339', 'County': 'Montgomery, TX', '2021_Income': '68,974'}, {'GeoFips': '48341', 'County': 'Moore, TX', '2021_Income': '56,634'}, {'GeoFips': '48343', 'County': 'Morris, TX', '2021_Income': '47,226'}, {'GeoFips': '48345', 'County': 'Motley, TX', '2021_Income': '41,754'}, {'GeoFips': '48347', 'County': 'Nacogdoches, TX', '2021_Income': '46,246'}, {'GeoFips': '48349', 'County': 'Navarro, TX', '2021_Income': '45,616'}, {'GeoFips': '48351', 'County': 'Newton, TX', '2021_Income': '43,123'}, {'GeoFips': '48353', 'County': 'Nolan, TX', '2021_Income': '52,629'}, {'GeoFips': '48355', 'County': 'Nueces, TX', '2021_Income': '52,852'}, {'GeoFips': '48357', 'County': 'Ochiltree, TX', '2021_Income': '64,247'}, {'GeoFips': '48359', 'County': 'Oldham, TX', '2021_Income': '72,126'}, {'GeoFips': '48361', 'County': 'Orange, TX', '2021_Income': '48,912'}, {'GeoFips': '48363', 'County': 'Palo Pinto, TX', '2021_Income': '52,042'}, {'GeoFips': '48365', 'County': 'Panola, TX', '2021_Income': '53,292'}, {'GeoFips': '48367', 'County': 'Parker, TX', '2021_Income': '65,358'}, {'GeoFips': '48369', 'County': 'Parmer, TX', '2021_Income': '63,512'}, {'GeoFips': '48371', 'County': 'Pecos, TX', '2021_Income': '43,661'}, {'GeoFips': '48373', 'County': 'Polk, TX', '2021_Income': '47,994'}, {'GeoFips': '48375', 'County': 'Potter, TX', '2021_Income': '55,764'}, {'GeoFips': '48377', 'County': 'Presidio, TX', '2021_Income': '61,776'}, {'GeoFips': '48379', 'County': 'Rains, TX', '2021_Income': '41,563'}, {'GeoFips': '48381', 'County': 'Randall, TX', '2021_Income': '56,381'}, {'GeoFips': '48383', 'County': 'Reagan, TX', '2021_Income': '61,077'}, {'GeoFips': '48385', 'County': 'Real, TX', '2021_Income': '55,449'}, {'GeoFips': '48387', 'County': 'Red River, TX', '2021_Income': '53,818'}, {'GeoFips': '48389', 'County': 'Reeves, TX', '2021_Income': '52,811'}, {'GeoFips': '48391', 'County': 'Refugio, TX', '2021_Income': '54,475'}, {'GeoFips': '48393', 'County': 'Roberts, TX', '2021_Income': '56,868'}, {'GeoFips': '48395', 'County': 'Robertson, TX', '2021_Income': '52,894'}, {'GeoFips': '48397', 'County': 'Rockwall, TX', '2021_Income': '70,833'}, {'GeoFips': '48399', 'County': 'Runnels, TX', '2021_Income': '51,307'}, {'GeoFips': '48401', 'County': 'Rusk, TX', '2021_Income': '44,874'}, {'GeoFips': '48403', 'County': 'Sabine, TX', '2021_Income': '44,900'}, {'GeoFips': '48405', 'County': 'San Augustine, TX', '2021_Income': '50,573'}, {'GeoFips': '48407', 'County': 'San Jacinto, TX', '2021_Income': '46,477'}, {'GeoFips': '48409', 'County': 'San Patricio, TX', '2021_Income': '51,392'}, {'GeoFips': '48411', 'County': 'San Saba, TX', '2021_Income': '43,735'}, {'GeoFips': '48413', 'County': 'Schleicher, TX', '2021_Income': '51,775'}, {'GeoFips': '48415', 'County': 'Scurry, TX', '2021_Income': '47,138'}, {'GeoFips': '48417', 'County': 'Shackelford, TX', '2021_Income': '93,075'}, {'GeoFips': '48419', 'County': 'Shelby, TX', '2021_Income': '54,640'}, {'GeoFips': '48421', 'County': 'Sherman, TX', '2021_Income': '122,945'}, {'GeoFips': '48423', 'County': 'Smith, TX', '2021_Income': '60,284'}, {'GeoFips': '48425', 'County': 'Somervell, TX', '2021_Income': '54,826'}, {'GeoFips': '48427', 'County': 'Starr, TX', '2021_Income': '34,933'}, {'GeoFips': '48429', 'County': 'Stephens, TX', '2021_Income': '48,498'}, {'GeoFips': '48431', 'County': 'Sterling, TX', '2021_Income': '65,866'}, {'GeoFips': '48433', 'County': 'Stonewall, TX', '2021_Income': '73,182'}, {'GeoFips': '48435', 'County': 'Sutton, TX', '2021_Income': '68,431'}, {'GeoFips': '48437', 'County': 'Swisher, TX', '2021_Income': '72,623'}, {'GeoFips': '48439', 'County': 'Tarrant, TX', '2021_Income': '58,940'}, {'GeoFips': '48441', 'County': 'Taylor, TX', '2021_Income': '58,316'}, {'GeoFips': '48443', 'County': 'Terrell, TX', '2021_Income': '63,481'}, {'GeoFips': '48445', 'County': 'Terry, TX', '2021_Income': '45,353'}, {'GeoFips': '48447', 'County': 'Throckmorton, TX', '2021_Income': '69,390'}, {'GeoFips': '48449', 'County': 'Titus, TX', '2021_Income': '48,007'}, {'GeoFips': '48451', 'County': 'Tom Green, TX', '2021_Income': '59,877'}, {'GeoFips': '48453', 'County': 'Travis, TX', '2021_Income': '81,708'}, {'GeoFips': '48455', 'County': 'Trinity, TX', '2021_Income': '47,101'}, {'GeoFips': '48457', 'County': 'Tyler, TX', '2021_Income': '41,613'}, {'GeoFips': '48459', 'County': 'Upshur, TX', '2021_Income': '43,308'}, {'GeoFips': '48461', 'County': 'Upton, TX', '2021_Income': '61,595'}, {'GeoFips': '48463', 'County': 'Uvalde, TX', '2021_Income': '53,257'}, {'GeoFips': '48465', 'County': 'Val Verde, TX', '2021_Income': '46,642'}, {'GeoFips': '48467', 'County': 'Van Zandt, TX', '2021_Income': '45,045'}, {'GeoFips': '48469', 'County': 'Victoria, TX', '2021_Income': '58,479'}, {'GeoFips': '48471', 'County': 'Walker, TX', '2021_Income': '33,345'}, {'GeoFips': '48473', 'County': 'Waller, TX', '2021_Income': '49,404'}, {'GeoFips': '48475', 'County': 'Ward, TX', '2021_Income': '55,099'}, {'GeoFips': '48477', 'County': 'Washington, TX', '2021_Income': '61,295'}, {'GeoFips': '48479', 'County': 'Webb, TX', '2021_Income': '40,850'}, {'GeoFips': '48481', 'County': 'Wharton, TX', '2021_Income': '52,948'}, {'GeoFips': '48483', 'County': 'Wheeler, TX', '2021_Income': '49,906'}, {'GeoFips': '48485', 'County': 'Wichita, TX', '2021_Income': '50,210'}, {'GeoFips': '48487', 'County': 'Wilbarger, TX', '2021_Income': '59,952'}, {'GeoFips': '48489', 'County': 'Willacy, TX', '2021_Income': '37,792'}, {'GeoFips': '48491', 'County': 'Williamson, TX', '2021_Income': '62,931'}, {'GeoFips': '48493', 'County': 'Wilson, TX', '2021_Income': '55,762'}, {'GeoFips': '48495', 'County': 'Winkler, TX', '2021_Income': '66,180'}, {'GeoFips': '48497', 'County': 'Wise, TX', '2021_Income': '53,871'}, {'GeoFips': '48499', 'County': 'Wood, TX', '2021_Income': '47,546'}, {'GeoFips': '48501', 'County': 'Yoakum, TX', '2021_Income': '51,954'}, {'GeoFips': '48503', 'County': 'Young, TX', '2021_Income': '58,602'}, {'GeoFips': '48505', 'County': 'Zapata, TX', '2021_Income': '33,288'}, {'GeoFips': '48507', 'County': 'Zavala, TX', '2021_Income': '43,868'}, {'GeoFips': '48998', 'County': 'Texas (Metropolitan Portion)', '2021_Income': '60,960'}, {'GeoFips': '48999', 'County': 'Texas (Nonmetropolitan Portion) *', '2021_Income': '50,445'}, {'GeoFips': '10180', 'County': 'Abilene, TX (Metropolitan Statistical Area)', '2021_Income': '55,556'}, {'GeoFips': '11100', 'County': 'Amarillo, TX (Metropolitan Statistical Area)', '2021_Income': '56,248'}, {'GeoFips': '12420', 'County': 'Austin-Round Rock-Georgetown, TX (Metropolitan Statistical Area)', '2021_Income': '71,372'}, {'GeoFips': '13140', 'County': 'Beaumont-Port Arthur, TX (Metropolitan Statistical Area)', '2021_Income': '49,006'}, {'GeoFips': '15180', 'County': 'Brownsville-Harlingen, TX (Metropolitan Statistical Area)', '2021_Income': '37,861'}, {'GeoFips': '17780', 'County': 'College Station-Bryan, TX (Metropolitan Statistical Area)', '2021_Income': '47,803'}, {'GeoFips': '18580', 'County': 'Corpus Christi, TX (Metropolitan Statistical Area)', '2021_Income': '52,612'}, {'GeoFips': '19100', 'County': 'Dallas-Fort Worth-Arlington, TX (Metropolitan Statistical Area)', '2021_Income': '66,727'}, {'GeoFips': '21340', 'County': 'El Paso, TX (Metropolitan Statistical Area)', '2021_Income': '44,058'}, {'GeoFips': '26420', 'County': 'Houston-The Woodlands-Sugar Land, TX (Metropolitan Statistical Area)', '2021_Income': '64,837'}, {'GeoFips': '28660', 'County': 'Killeen-Temple, TX (Metropolitan Statistical Area)', '2021_Income': '47,755'}, {'GeoFips': '29700', 'County': 'Laredo, TX (Metropolitan Statistical Area)', '2021_Income': '40,850'}, {'GeoFips': '30980', 'County': 'Longview, TX (Metropolitan Statistical Area)', '2021_Income': '48,868'}, {'GeoFips': '31180', 'County': 'Lubbock, TX (Metropolitan Statistical Area)', '2021_Income': '51,045'}, {'GeoFips': '32580', 'County': 'McAllen-Edinburg-Mission, TX (Metropolitan Statistical Area)', '2021_Income': '34,503'}, {'GeoFips': '33260', 'County': 'Midland, TX (Metropolitan Statistical Area)', '2021_Income': '125,455'}, {'GeoFips': '36220', 'County': 'Odessa, TX (Metropolitan Statistical Area)', '2021_Income': '53,610'}, {'GeoFips': '41660', 'County': 'San Angelo, TX (Metropolitan Statistical Area)', '2021_Income': '60,187'}, {'GeoFips': '41700', 'County': 'San Antonio-New Braunfels, TX (Metropolitan Statistical Area)', '2021_Income': '53,648'}, {'GeoFips': '43300', 'County': 'Sherman-Denison, TX (Metropolitan Statistical Area)', '2021_Income': '52,055'}, {'GeoFips': '45500', 'County': 'Texarkana, TX-AR (Metropolitan Statistical Area)', '2021_Income': '45,058'}, {'GeoFips': '46340', 'County': 'Tyler, TX (Metropolitan Statistical Area)', '2021_Income': '60,284'}, {'GeoFips': '47020', 'County': 'Victoria, TX (Metropolitan Statistical Area)', '2021_Income': '58,294'}, {'GeoFips': '47380', 'County': 'Waco, TX (Metropolitan Statistical Area)', '2021_Income': '49,151'}, {'GeoFips': '48660', 'County': 'Wichita Falls, TX (Metropolitan Statistical Area)', '2021_Income': '50,905'}, {'GeoFips': '10860', 'County': 'Alice, TX (Micropolitan Statistical Area)', '2021_Income': '51,092'}, {'GeoFips': '11380', 'County': 'Andrews, TX (Micropolitan Statistical Area)', '2021_Income': '52,943'}, {'GeoFips': '11980', 'County': 'Athens, TX (Micropolitan Statistical Area)', '2021_Income': '48,594'}, {'GeoFips': '13060', 'County': 'Bay City, TX (Micropolitan Statistical Area)', '2021_Income': '50,775'}, {'GeoFips': '13300', 'County': 'Beeville, TX (Micropolitan Statistical Area)', '2021_Income': '34,738'}, {'GeoFips': '13700', 'County': 'Big Spring, TX (Micropolitan Statistical Area)', '2021_Income': '51,007'}, {'GeoFips': '14300', 'County': 'Bonham, TX (Micropolitan Statistical Area)', '2021_Income': '46,449'}, {'GeoFips': '14420', 'County': 'Borger, TX (Micropolitan Statistical Area)', '2021_Income': '50,130'}, {'GeoFips': '14780', 'County': 'Brenham, TX (Micropolitan Statistical Area)', '2021_Income': '61,295'}, {'GeoFips': '15220', 'County': 'Brownwood, TX (Micropolitan Statistical Area)', '2021_Income': '46,028'}, {'GeoFips': '18620', 'County': 'Corsicana, TX (Micropolitan Statistical Area)', '2021_Income': '45,616'}, {'GeoFips': '19620', 'County': 'Del Rio, TX (Micropolitan Statistical Area)', '2021_Income': '46,642'}, {'GeoFips': '20300', 'County': 'Dumas, TX (Micropolitan Statistical Area)', '2021_Income': '56,634'}, {'GeoFips': '20580', 'County': 'Eagle Pass, TX (Micropolitan Statistical Area)', '2021_Income': '38,448'}, {'GeoFips': '20900', 'County': 'El Campo, TX (Micropolitan Statistical Area)', '2021_Income': '52,948'}, {'GeoFips': '23240', 'County': 'Fredericksburg, TX (Micropolitan Statistical Area)', '2021_Income': '78,039'}, {'GeoFips': '23620', 'County': 'Gainesville, TX (Micropolitan Statistical Area)', '2021_Income': '59,800'}, {'GeoFips': '24180', 'County': 'Granbury, TX (Micropolitan Statistical Area)', '2021_Income': '60,912'}, {'GeoFips': '25820', 'County': 'Hereford, TX (Micropolitan Statistical Area)', '2021_Income': '60,615'}, {'GeoFips': '26660', 'County': 'Huntsville, TX (Micropolitan Statistical Area)', '2021_Income': '33,345'}, {'GeoFips': '27380', 'County': 'Jacksonville, TX (Micropolitan Statistical Area)', '2021_Income': '43,376'}, {'GeoFips': '28500', 'County': 'Kerrville, TX (Micropolitan Statistical Area)', '2021_Income': '61,401'}, {'GeoFips': '28780', 'County': 'Kingsville, TX (Micropolitan Statistical Area)', '2021_Income': '45,833'}, {'GeoFips': '29500', 'County': 'Lamesa, TX (Micropolitan Statistical Area)', '2021_Income': '46,139'}, {'GeoFips': '30220', 'County': 'Levelland, TX (Micropolitan Statistical Area)', '2021_Income': '52,586'}, {'GeoFips': '31260', 'County': 'Lufkin, TX (Micropolitan Statistical Area)', '2021_Income': '46,170'}, {'GeoFips': '33420', 'County': 'Mineral Wells, TX (Micropolitan Statistical Area)', '2021_Income': '52,042'}, {'GeoFips': '34420', 'County': 'Mount Pleasant, TX (Micropolitan Statistical Area)', '2021_Income': '47,632'}, {'GeoFips': '34860', 'County': 'Nacogdoches, TX (Micropolitan Statistical Area)', '2021_Income': '46,246'}, {'GeoFips': '37300', 'County': 'Palestine, TX (Micropolitan Statistical Area)', '2021_Income': '42,444'}, {'GeoFips': '37420', 'County': 'Pampa, TX (Micropolitan Statistical Area)', '2021_Income': '50,073'}, {'GeoFips': '37580', 'County': 'Paris, TX (Micropolitan Statistical Area)', '2021_Income': '50,699'}, {'GeoFips': '37770', 'County': 'Pearsall, TX (Micropolitan Statistical Area)', '2021_Income': '39,898'}, {'GeoFips': '37780', 'County': 'Pecos, TX (Micropolitan Statistical Area)', '2021_Income': '53,056'}, {'GeoFips': '38380', 'County': 'Plainview, TX (Micropolitan Statistical Area)', '2021_Income': '43,543'}, {'GeoFips': '38920', 'County': 'Port Lavaca, TX (Micropolitan Statistical Area)', '2021_Income': '60,589'}, {'GeoFips': '39700', 'County': 'Raymondville, TX (Micropolitan Statistical Area)', '2021_Income': '37,792'}, {'GeoFips': '40100', 'County': 'Rio Grande City-Roma, TX (Micropolitan Statistical Area)', '2021_Income': '34,933'}, {'GeoFips': '40530', 'County': 'Rockport, TX (Micropolitan Statistical Area)', '2021_Income': '59,878'}, {'GeoFips': '43660', 'County': 'Snyder, TX (Micropolitan Statistical Area)', '2021_Income': '47,138'}, {'GeoFips': '44500', 'County': 'Stephenville, TX (Micropolitan Statistical Area)', '2021_Income': '46,906'}, {'GeoFips': '44860', 'County': 'Sulphur Springs, TX (Micropolitan Statistical Area)', '2021_Income': '50,272'}, {'GeoFips': '45020', 'County': 'Sweetwater, TX (Micropolitan Statistical Area)', '2021_Income': '52,629'}, {'GeoFips': '46620', 'County': 'Uvalde, TX (Micropolitan Statistical Area)', '2021_Income': '53,257'}, {'GeoFips': '46900', 'County': 'Vernon, TX (Micropolitan Statistical Area)', '2021_Income': '59,952'}, {'GeoFips': '49820', 'County': 'Zapata, TX (Micropolitan Statistical Area)', '2021_Income': '33,288'}, {'GeoFips': '89108', 'County': 'Amarillo-Pampa-Borger, TX (Combined Statistical Area)', '2021_Income': '55,414'}, {'GeoFips': '89154', 'County': 'Brownsville-Harlingen-Raymondville, TX (Combined Statistical Area)', '2021_Income': '37,858'}, {'GeoFips': '89204', 'County': 'Corpus Christi-Kingsville-Alice, TX (Combined Statistical Area)', '2021_Income': '52,411'}, {'GeoFips': '89206', 'County': 'Dallas-Fort Worth, TX-OK (Combined Statistical Area)', '2021_Income': '65,807'}, {'GeoFips': '89238', 'County': 'El Paso-Las Cruces, TX-NM (Combined Statistical Area)', '2021_Income': '44,258'}, {'GeoFips': '89288', 'County': 'Houston-The Woodlands, TX (Combined Statistical Area)', '2021_Income': '64,351'}, {'GeoFips': '89314', 'County': 'Kerrville-Fredericksburg, TX (Combined Statistical Area)', '2021_Income': '67,045'}, {'GeoFips': '89352', 'County': 'Lubbock-Plainview-Levelland, TX (Combined Statistical Area)', '2021_Income': '50,494'}, {'GeoFips': '89365', 'County': 'McAllen-Edinburg, TX (Combined Statistical Area)', '2021_Income': '34,533'}, {'GeoFips': '89372', 'County': 'Midland-Odessa, TX (Combined Statistical Area)', '2021_Income': '90,832'}, {'GeoFips': '89484', 'County': 'San Antonio-New Braunfels-Pearsall, TX (Combined Statistical Area)', '2021_Income': '53,551'}, {'GeoFips': '89540', 'County': 'Tyler-Jacksonville, TX (Combined Statistical Area)', '2021_Income': '57,287'}, {'GeoFips': '89544', 'County': 'Victoria-Port Lavaca, TX (Combined Statistical Area)', '2021_Income': '58,679'}, {'GeoFips': '19124', 'County': 'Dallas-Plano-Irving, TX (Metropolitan Division)', '2021_Income': '70,662'}, {'GeoFips': '23104', 'County': 'Fort Worth-Arlington-Grapevine, TX (Metropolitan Division)', '2021_Income': '58,653'}]\n"
     ]
    }
   ],
   "source": [
    "table = soup.find(\"table\", id=\"DataTbl\")\n",
    "\n",
    "#Create a list of dictionaries \n",
    "if table:\n",
    "    personal_income = []  \n",
    "    \n",
    "    rows = table.find(\"tbody\").find_all(\"tr\")\n",
    "\n",
    "    for row in rows:\n",
    "        cells = row.find_all(\"td\")  \n",
    "\n",
    "        if len(cells) == 3: \n",
    "            geo_fips = cells[0].text.strip()\n",
    "            geo_name = cells[1].text.strip()\n",
    "            income_2021 = cells[2].text.strip()\n",
    "            \n",
    "            row_data = {\n",
    "                \"GeoFips\": geo_fips,\n",
    "                \"County\": geo_name,\n",
    "                \"2021_Income\": income_2021\n",
    "            }\n",
    "            personal_income.append(row_data)\n",
    "    \n",
    "    print(personal_income)\n",
    "else:\n",
    "    print(\"Table with id 'DataTbl' not found.\")"
   ]
  },
  {
   "cell_type": "code",
   "execution_count": 7,
   "metadata": {
    "tags": []
   },
   "outputs": [],
   "source": [
    "#Export this list of dictionaries to a json file\n",
    "\n",
    "file_path = os.path.join(\"json_files\", \"income_data.json\")\n",
    "\n",
    "with open(file_path, \"w\") as json_file:\n",
    "    json.dump(personal_income, json_file, indent=4)"
   ]
  },
  {
   "cell_type": "code",
   "execution_count": 8,
   "metadata": {
    "tags": []
   },
   "outputs": [],
   "source": [
    "browser.quit()"
   ]
  },
  {
   "cell_type": "code",
   "execution_count": 9,
   "metadata": {
    "tags": []
   },
   "outputs": [],
   "source": [
    "browser = Browser('chrome')"
   ]
  },
  {
   "cell_type": "code",
   "execution_count": 10,
   "metadata": {
    "tags": []
   },
   "outputs": [],
   "source": [
    "time.sleep(5)\n",
    "\n",
    "url = \"https://apps.bea.gov/itable/?ReqID=99&step=1#eyJhcHBpZCI6OTksInN0ZXBzIjpbMSwyOSwyNSwyNiwyNyw0MF0sImRhdGEiOltbIlRhYmxlSWQiLCIyMCJdLFsiTWFqb3JBcmVhS2V5IiwiNCJdLFsiTGluZSIsIjIiXSxbIlN0YXRlIiwiNDgwMDAiXSxbIlVuaXRfb2ZfTWVhc3VyZSIsIkxldmVscyJdLFsiTWFwQ29sb3IiLCJCRUFTdGFuZGFyZCJdLFsiblJhbmdlIiwiNSJdLFsiWWVhciIsIjIwMjEiXSxbIlllYXJCZWdpbiIsIi0xIl0sWyJZZWFyRW5kIiwiLTEiXV19\"\n",
    "browser.visit(url)\n",
    "\n",
    "\n",
    "# Wait for the button to be clickable \n",
    "button = WebDriverWait(browser.driver, 10).until(\n",
    "EC.element_to_be_clickable((By.ID, 'ShowTableBtn')))\n",
    "    # Click the button\n",
    "button.click()"
   ]
  },
  {
   "cell_type": "code",
   "execution_count": 11,
   "metadata": {
    "tags": []
   },
   "outputs": [],
   "source": [
    "html = browser.html\n",
    "soup = BeautifulSoup(html, 'html.parser')"
   ]
  },
  {
   "cell_type": "code",
   "execution_count": 12,
   "metadata": {
    "tags": []
   },
   "outputs": [],
   "source": [
    "table2 = soup.find(\"table\", id=\"DataTbl\")"
   ]
  },
  {
   "cell_type": "code",
   "execution_count": 13,
   "metadata": {
    "tags": []
   },
   "outputs": [
    {
     "name": "stdout",
     "output_type": "stream",
     "text": [
      "[{'GeoFips': '48000', 'County': 'Texas', 'Population': '29,527,941'}, {'GeoFips': '48001', 'County': 'Anderson, TX', 'Population': '58,402'}, {'GeoFips': '48003', 'County': 'Andrews, TX', 'Population': '18,440'}, {'GeoFips': '48005', 'County': 'Angelina, TX', 'Population': '86,506'}, {'GeoFips': '48007', 'County': 'Aransas, TX', 'Population': '24,510'}, {'GeoFips': '48009', 'County': 'Archer, TX', 'Population': '8,681'}, {'GeoFips': '48011', 'County': 'Armstrong, TX', 'Population': '1,839'}, {'GeoFips': '48013', 'County': 'Atascosa, TX', 'Population': '49,939'}, {'GeoFips': '48015', 'County': 'Austin, TX', 'Population': '30,380'}, {'GeoFips': '48017', 'County': 'Bailey, TX', 'Population': '6,835'}, {'GeoFips': '48019', 'County': 'Bandera, TX', 'Population': '21,565'}, {'GeoFips': '48021', 'County': 'Bastrop, TX', 'Population': '102,058'}, {'GeoFips': '48023', 'County': 'Baylor, TX', 'Population': '3,477'}, {'GeoFips': '48025', 'County': 'Bee, TX', 'Population': '30,924'}, {'GeoFips': '48027', 'County': 'Bell, TX', 'Population': '379,617'}, {'GeoFips': '48029', 'County': 'Bexar, TX', 'Population': '2,028,236'}, {'GeoFips': '48031', 'County': 'Blanco, TX', 'Population': '11,886'}, {'GeoFips': '48033', 'County': 'Borden, TX', 'Population': '617'}, {'GeoFips': '48035', 'County': 'Bosque, TX', 'Population': '18,503'}, {'GeoFips': '48037', 'County': 'Bowie, TX', 'Population': '92,581'}, {'GeoFips': '48039', 'County': 'Brazoria, TX', 'Population': '379,689'}, {'GeoFips': '48041', 'County': 'Brazos, TX', 'Population': '237,032'}, {'GeoFips': '48043', 'County': 'Brewster, TX', 'Population': '9,450'}, {'GeoFips': '48045', 'County': 'Briscoe, TX', 'Population': '1,403'}, {'GeoFips': '48047', 'County': 'Brooks, TX', 'Population': '6,994'}, {'GeoFips': '48049', 'County': 'Brown, TX', 'Population': '38,192'}, {'GeoFips': '48051', 'County': 'Burleson, TX', 'Population': '18,051'}, {'GeoFips': '48053', 'County': 'Burnet, TX', 'Population': '50,954'}, {'GeoFips': '48055', 'County': 'Caldwell, TX', 'Population': '46,791'}, {'GeoFips': '48057', 'County': 'Calhoun, TX', 'Population': '19,727'}, {'GeoFips': '48059', 'County': 'Callahan, TX', 'Population': '14,115'}, {'GeoFips': '48061', 'County': 'Cameron, TX', 'Population': '423,029'}, {'GeoFips': '48063', 'County': 'Camp, TX', 'Population': '12,616'}, {'GeoFips': '48065', 'County': 'Carson, TX', 'Population': '5,746'}, {'GeoFips': '48067', 'County': 'Cass, TX', 'Population': '28,560'}, {'GeoFips': '48069', 'County': 'Castro, TX', 'Population': '7,374'}, {'GeoFips': '48071', 'County': 'Chambers, TX', 'Population': '48,865'}, {'GeoFips': '48073', 'County': 'Cherokee, TX', 'Population': '51,097'}, {'GeoFips': '48075', 'County': 'Childress, TX', 'Population': '6,736'}, {'GeoFips': '48077', 'County': 'Clay, TX', 'Population': '10,263'}, {'GeoFips': '48079', 'County': 'Cochran, TX', 'Population': '2,516'}, {'GeoFips': '48081', 'County': 'Coke, TX', 'Population': '3,321'}, {'GeoFips': '48083', 'County': 'Coleman, TX', 'Population': '7,735'}, {'GeoFips': '48085', 'County': 'Collin, TX', 'Population': '1,109,462'}, {'GeoFips': '48087', 'County': 'Collingsworth, TX', 'Population': '2,615'}, {'GeoFips': '48089', 'County': 'Colorado, TX', 'Population': '20,630'}, {'GeoFips': '48091', 'County': 'Comal, TX', 'Population': '174,986'}, {'GeoFips': '48093', 'County': 'Comanche, TX', 'Population': '13,775'}, {'GeoFips': '48095', 'County': 'Concho, TX', 'Population': '3,341'}, {'GeoFips': '48097', 'County': 'Cooke, TX', 'Population': '42,244'}, {'GeoFips': '48099', 'County': 'Coryell, TX', 'Population': '84,232'}, {'GeoFips': '48101', 'County': 'Cottle, TX', 'Population': '1,381'}, {'GeoFips': '48103', 'County': 'Crane, TX', 'Population': '4,680'}, {'GeoFips': '48105', 'County': 'Crockett, TX', 'Population': '3,068'}, {'GeoFips': '48107', 'County': 'Crosby, TX', 'Population': '5,106'}, {'GeoFips': '48109', 'County': 'Culberson, TX', 'Population': '2,193'}, {'GeoFips': '48111', 'County': 'Dallam, TX', 'Population': '7,172'}, {'GeoFips': '48113', 'County': 'Dallas, TX', 'Population': '2,586,050'}, {'GeoFips': '48115', 'County': 'Dawson, TX', 'Population': '12,413'}, {'GeoFips': '48117', 'County': 'Deaf Smith, TX', 'Population': '18,329'}, {'GeoFips': '48119', 'County': 'Delta, TX', 'Population': '5,392'}, {'GeoFips': '48121', 'County': 'Denton, TX', 'Population': '941,647'}, {'GeoFips': '48123', 'County': 'DeWitt, TX', 'Population': '19,918'}, {'GeoFips': '48125', 'County': 'Dickens, TX', 'Population': '1,740'}, {'GeoFips': '48127', 'County': 'Dimmit, TX', 'Population': '8,473'}, {'GeoFips': '48129', 'County': 'Donley, TX', 'Population': '3,268'}, {'GeoFips': '48131', 'County': 'Duval, TX', 'Population': '9,756'}, {'GeoFips': '48133', 'County': 'Eastland, TX', 'Population': '17,864'}, {'GeoFips': '48135', 'County': 'Ector, TX', 'Population': '161,091'}, {'GeoFips': '48137', 'County': 'Edwards, TX', 'Population': '1,438'}, {'GeoFips': '48139', 'County': 'Ellis, TX', 'Population': '202,678'}, {'GeoFips': '48141', 'County': 'El Paso, TX', 'Population': '867,947'}, {'GeoFips': '48143', 'County': 'Erath, TX', 'Population': '43,378'}, {'GeoFips': '48145', 'County': 'Falls, TX', 'Population': '17,313'}, {'GeoFips': '48147', 'County': 'Fannin, TX', 'Population': '36,569'}, {'GeoFips': '48149', 'County': 'Fayette, TX', 'Population': '24,687'}, {'GeoFips': '48151', 'County': 'Fisher, TX', 'Population': '3,706'}, {'GeoFips': '48153', 'County': 'Floyd, TX', 'Population': '5,350'}, {'GeoFips': '48155', 'County': 'Foard, TX', 'Population': '1,080'}, {'GeoFips': '48157', 'County': 'Fort Bend, TX', 'Population': '858,527'}, {'GeoFips': '48159', 'County': 'Franklin, TX', 'Population': '10,464'}, {'GeoFips': '48161', 'County': 'Freestone, TX', 'Population': '19,774'}, {'GeoFips': '48163', 'County': 'Frio, TX', 'Population': '18,436'}, {'GeoFips': '48165', 'County': 'Gaines, TX', 'Population': '21,895'}, {'GeoFips': '48167', 'County': 'Galveston, TX', 'Population': '355,062'}, {'GeoFips': '48169', 'County': 'Garza, TX', 'Population': '5,863'}, {'GeoFips': '48171', 'County': 'Gillespie, TX', 'Population': '27,297'}, {'GeoFips': '48173', 'County': 'Glasscock, TX', 'Population': '1,149'}, {'GeoFips': '48175', 'County': 'Goliad, TX', 'Population': '7,163'}, {'GeoFips': '48177', 'County': 'Gonzales, TX', 'Population': '19,641'}, {'GeoFips': '48179', 'County': 'Gray, TX', 'Population': '21,030'}, {'GeoFips': '48181', 'County': 'Grayson, TX', 'Population': '139,336'}, {'GeoFips': '48183', 'County': 'Gregg, TX', 'Population': '124,201'}, {'GeoFips': '48185', 'County': 'Grimes, TX', 'Population': '30,287'}, {'GeoFips': '48187', 'County': 'Guadalupe, TX', 'Population': '177,036'}, {'GeoFips': '48189', 'County': 'Hale, TX', 'Population': '32,220'}, {'GeoFips': '48191', 'County': 'Hall, TX', 'Population': '2,845'}, {'GeoFips': '48193', 'County': 'Hamilton, TX', 'Population': '8,229'}, {'GeoFips': '48195', 'County': 'Hansford, TX', 'Population': '5,159'}, {'GeoFips': '48197', 'County': 'Hardeman, TX', 'Population': '3,552'}, {'GeoFips': '48199', 'County': 'Hardin, TX', 'Population': '56,973'}, {'GeoFips': '48201', 'County': 'Harris, TX', 'Population': '4,728,030'}, {'GeoFips': '48203', 'County': 'Harrison, TX', 'Population': '69,150'}, {'GeoFips': '48205', 'County': 'Hartley, TX', 'Population': '5,397'}, {'GeoFips': '48207', 'County': 'Haskell, TX', 'Population': '5,411'}, {'GeoFips': '48209', 'County': 'Hays, TX', 'Population': '255,397'}, {'GeoFips': '48211', 'County': 'Hemphill, TX', 'Population': '3,271'}, {'GeoFips': '48213', 'County': 'Henderson, TX', 'Population': '83,667'}, {'GeoFips': '48215', 'County': 'Hidalgo, TX', 'Population': '880,356'}, {'GeoFips': '48217', 'County': 'Hill, TX', 'Population': '36,471'}, {'GeoFips': '48219', 'County': 'Hockley, TX', 'Population': '21,363'}, {'GeoFips': '48221', 'County': 'Hood, TX', 'Population': '64,222'}, {'GeoFips': '48223', 'County': 'Hopkins, TX', 'Population': '37,211'}, {'GeoFips': '48225', 'County': 'Houston, TX', 'Population': '22,241'}, {'GeoFips': '48227', 'County': 'Howard, TX', 'Population': '34,128'}, {'GeoFips': '48229', 'County': 'Hudspeth, TX', 'Population': '3,287'}, {'GeoFips': '48231', 'County': 'Hunt, TX', 'Population': '103,394'}, {'GeoFips': '48233', 'County': 'Hutchinson, TX', 'Population': '20,495'}, {'GeoFips': '48235', 'County': 'Irion, TX', 'Population': '1,552'}, {'GeoFips': '48237', 'County': 'Jack, TX', 'Population': '8,712'}, {'GeoFips': '48239', 'County': 'Jackson, TX', 'Population': '15,121'}, {'GeoFips': '48241', 'County': 'Jasper, TX', 'Population': '32,975'}, {'GeoFips': '48243', 'County': 'Jeff Davis, TX', 'Population': '1,949'}, {'GeoFips': '48245', 'County': 'Jefferson, TX', 'Population': '253,704'}, {'GeoFips': '48247', 'County': 'Jim Hogg, TX', 'Population': '4,801'}, {'GeoFips': '48249', 'County': 'Jim Wells, TX', 'Population': '38,847'}, {'GeoFips': '48251', 'County': 'Johnson, TX', 'Population': '187,280'}, {'GeoFips': '48253', 'County': 'Jones, TX', 'Population': '19,873'}, {'GeoFips': '48255', 'County': 'Karnes, TX', 'Population': '14,754'}, {'GeoFips': '48257', 'County': 'Kaufman, TX', 'Population': '157,768'}, {'GeoFips': '48259', 'County': 'Kendall, TX', 'Population': '46,788'}, {'GeoFips': '48261', 'County': 'Kenedy, TX', 'Population': '340'}, {'GeoFips': '48263', 'County': 'Kent, TX', 'Population': '749'}, {'GeoFips': '48265', 'County': 'Kerr, TX', 'Population': '53,161'}, {'GeoFips': '48267', 'County': 'Kimble, TX', 'Population': '4,365'}, {'GeoFips': '48269', 'County': 'King, TX', 'Population': '258'}, {'GeoFips': '48271', 'County': 'Kinney, TX', 'Population': '3,130'}, {'GeoFips': '48273', 'County': 'Kleberg, TX', 'Population': '30,635'}, {'GeoFips': '48275', 'County': 'Knox, TX', 'Population': '3,351'}, {'GeoFips': '48277', 'County': 'Lamar, TX', 'Population': '50,098'}, {'GeoFips': '48279', 'County': 'Lamb, TX', 'Population': '12,898'}, {'GeoFips': '48281', 'County': 'Lampasas, TX', 'Population': '22,252'}, {'GeoFips': '48283', 'County': 'La Salle, TX', 'Population': '6,670'}, {'GeoFips': '48285', 'County': 'Lavaca, TX', 'Population': '20,544'}, {'GeoFips': '48287', 'County': 'Lee, TX', 'Population': '17,706'}, {'GeoFips': '48289', 'County': 'Leon, TX', 'Population': '15,959'}, {'GeoFips': '48291', 'County': 'Liberty, TX', 'Population': '97,621'}, {'GeoFips': '48293', 'County': 'Limestone, TX', 'Population': '22,119'}, {'GeoFips': '48295', 'County': 'Lipscomb, TX', 'Population': '2,931'}, {'GeoFips': '48297', 'County': 'Live Oak, TX', 'Population': '11,377'}, {'GeoFips': '48299', 'County': 'Llano, TX', 'Population': '21,978'}, {'GeoFips': '48301', 'County': 'Loving, TX', 'Population': '57'}, {'GeoFips': '48303', 'County': 'Lubbock, TX', 'Population': '314,451'}, {'GeoFips': '48305', 'County': 'Lynn, TX', 'Population': '5,688'}, {'GeoFips': '48307', 'County': 'McCulloch, TX', 'Population': '7,533'}, {'GeoFips': '48309', 'County': 'McLennan, TX', 'Population': '263,115'}, {'GeoFips': '48311', 'County': 'McMullen, TX', 'Population': '608'}, {'GeoFips': '48313', 'County': 'Madison, TX', 'Population': '13,718'}, {'GeoFips': '48315', 'County': 'Marion, TX', 'Population': '9,645'}, {'GeoFips': '48317', 'County': 'Martin, TX', 'Population': '5,211'}, {'GeoFips': '48319', 'County': 'Mason, TX', 'Population': '3,943'}, {'GeoFips': '48321', 'County': 'Matagorda, TX', 'Population': '36,344'}, {'GeoFips': '48323', 'County': 'Maverick, TX', 'Population': '58,056'}, {'GeoFips': '48325', 'County': 'Medina, TX', 'Population': '51,981'}, {'GeoFips': '48327', 'County': 'Menard, TX', 'Population': '1,982'}, {'GeoFips': '48329', 'County': 'Midland, TX', 'Population': '167,969'}, {'GeoFips': '48331', 'County': 'Milam, TX', 'Population': '25,106'}, {'GeoFips': '48333', 'County': 'Mills, TX', 'Population': '4,480'}, {'GeoFips': '48335', 'County': 'Mitchell, TX', 'Population': '9,070'}, {'GeoFips': '48337', 'County': 'Montague, TX', 'Population': '20,409'}, {'GeoFips': '48339', 'County': 'Montgomery, TX', 'Population': '648,886'}, {'GeoFips': '48341', 'County': 'Moore, TX', 'Population': '21,118'}, {'GeoFips': '48343', 'County': 'Morris, TX', 'Population': '12,030'}, {'GeoFips': '48345', 'County': 'Motley, TX', 'Population': '1,067'}, {'GeoFips': '48347', 'County': 'Nacogdoches, TX', 'Population': '64,668'}, {'GeoFips': '48349', 'County': 'Navarro, TX', 'Population': '53,591'}, {'GeoFips': '48351', 'County': 'Newton, TX', 'Population': '12,241'}, {'GeoFips': '48353', 'County': 'Nolan, TX', 'Population': '14,597'}, {'GeoFips': '48355', 'County': 'Nueces, TX', 'Population': '353,079'}, {'GeoFips': '48357', 'County': 'Ochiltree, TX', 'Population': '9,782'}, {'GeoFips': '48359', 'County': 'Oldham, TX', 'Population': '1,717'}, {'GeoFips': '48361', 'County': 'Orange, TX', 'Population': '84,742'}, {'GeoFips': '48363', 'County': 'Palo Pinto, TX', 'Population': '28,686'}, {'GeoFips': '48365', 'County': 'Panola, TX', 'Population': '22,675'}, {'GeoFips': '48367', 'County': 'Parker, TX', 'Population': '156,764'}, {'GeoFips': '48369', 'County': 'Parmer, TX', 'Population': '9,813'}, {'GeoFips': '48371', 'County': 'Pecos, TX', 'Population': '15,118'}, {'GeoFips': '48373', 'County': 'Polk, TX', 'Population': '51,899'}, {'GeoFips': '48375', 'County': 'Potter, TX', 'Population': '116,547'}, {'GeoFips': '48377', 'County': 'Presidio, TX', 'Population': '6,140'}, {'GeoFips': '48379', 'County': 'Rains, TX', 'Population': '12,509'}, {'GeoFips': '48381', 'County': 'Randall, TX', 'Population': '143,854'}, {'GeoFips': '48383', 'County': 'Reagan, TX', 'Population': '3,253'}, {'GeoFips': '48385', 'County': 'Real, TX', 'Population': '2,826'}, {'GeoFips': '48387', 'County': 'Red River, TX', 'Population': '11,555'}, {'GeoFips': '48389', 'County': 'Reeves, TX', 'Population': '14,487'}, {'GeoFips': '48391', 'County': 'Refugio, TX', 'Population': '6,756'}, {'GeoFips': '48393', 'County': 'Roberts, TX', 'Population': '797'}, {'GeoFips': '48395', 'County': 'Robertson, TX', 'Population': '16,958'}, {'GeoFips': '48397', 'County': 'Rockwall, TX', 'Population': '116,381'}, {'GeoFips': '48399', 'County': 'Runnels, TX', 'Population': '9,943'}, {'GeoFips': '48401', 'County': 'Rusk, TX', 'Population': '52,743'}, {'GeoFips': '48403', 'County': 'Sabine, TX', 'Population': '10,039'}, {'GeoFips': '48405', 'County': 'San Augustine, TX', 'Population': '7,922'}, {'GeoFips': '48407', 'County': 'San Jacinto, TX', 'Population': '27,878'}, {'GeoFips': '48409', 'County': 'San Patricio, TX', 'Population': '69,699'}, {'GeoFips': '48411', 'County': 'San Saba, TX', 'Population': '5,827'}, {'GeoFips': '48413', 'County': 'Schleicher, TX', 'Population': '2,429'}, {'GeoFips': '48415', 'County': 'Scurry, TX', 'Population': '16,824'}, {'GeoFips': '48417', 'County': 'Shackelford, TX', 'Population': '3,212'}, {'GeoFips': '48419', 'County': 'Shelby, TX', 'Population': '23,939'}, {'GeoFips': '48421', 'County': 'Sherman, TX', 'Population': '2,798'}, {'GeoFips': '48423', 'County': 'Smith, TX', 'Population': '237,186'}, {'GeoFips': '48425', 'County': 'Somervell, TX', 'Population': '9,469'}, {'GeoFips': '48427', 'County': 'Starr, TX', 'Population': '66,049'}, {'GeoFips': '48429', 'County': 'Stephens, TX', 'Population': '9,173'}, {'GeoFips': '48431', 'County': 'Sterling, TX', 'Population': '1,381'}, {'GeoFips': '48433', 'County': 'Stonewall, TX', 'Population': '1,217'}, {'GeoFips': '48435', 'County': 'Sutton, TX', 'Population': '3,319'}, {'GeoFips': '48437', 'County': 'Swisher, TX', 'Population': '7,008'}, {'GeoFips': '48439', 'County': 'Tarrant, TX', 'Population': '2,126,477'}, {'GeoFips': '48441', 'County': 'Taylor, TX', 'Population': '143,326'}, {'GeoFips': '48443', 'County': 'Terrell, TX', 'Population': '724'}, {'GeoFips': '48445', 'County': 'Terry, TX', 'Population': '11,754'}, {'GeoFips': '48447', 'County': 'Throckmorton, TX', 'Population': '1,495'}, {'GeoFips': '48449', 'County': 'Titus, TX', 'Population': '31,183'}, {'GeoFips': '48451', 'County': 'Tom Green, TX', 'Population': '119,411'}, {'GeoFips': '48453', 'County': 'Travis, TX', 'Population': '1,305,154'}, {'GeoFips': '48455', 'County': 'Trinity, TX', 'Population': '13,827'}, {'GeoFips': '48457', 'County': 'Tyler, TX', 'Population': '20,077'}, {'GeoFips': '48459', 'County': 'Upshur, TX', 'Population': '41,774'}, {'GeoFips': '48461', 'County': 'Upton, TX', 'Population': '3,265'}, {'GeoFips': '48463', 'County': 'Uvalde, TX', 'Population': '24,729'}, {'GeoFips': '48465', 'County': 'Val Verde, TX', 'Population': '47,564'}, {'GeoFips': '48467', 'County': 'Van Zandt, TX', 'Population': '61,275'}, {'GeoFips': '48469', 'County': 'Victoria, TX', 'Population': '90,964'}, {'GeoFips': '48471', 'County': 'Walker, TX', 'Population': '77,977'}, {'GeoFips': '48473', 'County': 'Waller, TX', 'Population': '59,781'}, {'GeoFips': '48475', 'County': 'Ward, TX', 'Population': '11,194'}, {'GeoFips': '48477', 'County': 'Washington, TX', 'Population': '35,891'}, {'GeoFips': '48479', 'County': 'Webb, TX', 'Population': '267,945'}, {'GeoFips': '48481', 'County': 'Wharton, TX', 'Population': '41,721'}, {'GeoFips': '48483', 'County': 'Wheeler, TX', 'Population': '4,927'}, {'GeoFips': '48485', 'County': 'Wichita, TX', 'Population': '130,069'}, {'GeoFips': '48487', 'County': 'Wilbarger, TX', 'Population': '12,731'}, {'GeoFips': '48489', 'County': 'Willacy, TX', 'Population': '20,316'}, {'GeoFips': '48491', 'County': 'Williamson, TX', 'Population': '643,026'}, {'GeoFips': '48493', 'County': 'Wilson, TX', 'Population': '51,257'}, {'GeoFips': '48495', 'County': 'Winkler, TX', 'Population': '7,415'}, {'GeoFips': '48497', 'County': 'Wise, TX', 'Population': '71,714'}, {'GeoFips': '48499', 'County': 'Wood, TX', 'Population': '45,875'}, {'GeoFips': '48501', 'County': 'Yoakum, TX', 'Population': '7,607'}, {'GeoFips': '48503', 'County': 'Young, TX', 'Population': '17,977'}, {'GeoFips': '48505', 'County': 'Zapata, TX', 'Population': '13,908'}, {'GeoFips': '48507', 'County': 'Zavala, TX', 'Population': '9,534'}, {'GeoFips': '48998', 'County': 'Texas (Metropolitan Portion)', 'Population': '26,452,989'}, {'GeoFips': '48999', 'County': 'Texas (Nonmetropolitan Portion) *', 'Population': '3,074,952'}, {'GeoFips': '10180', 'County': 'Abilene, TX (Metropolitan Statistical Area)', 'Population': '177,314'}, {'GeoFips': '11100', 'County': 'Amarillo, TX (Metropolitan Statistical Area)', 'Population': '269,703'}, {'GeoFips': '12420', 'County': 'Austin-Round Rock-Georgetown, TX (Metropolitan Statistical Area)', 'Population': '2,352,426'}, {'GeoFips': '13140', 'County': 'Beaumont-Port Arthur, TX (Metropolitan Statistical Area)', 'Population': '395,419'}, {'GeoFips': '15180', 'County': 'Brownsville-Harlingen, TX (Metropolitan Statistical Area)', 'Population': '423,029'}, {'GeoFips': '17780', 'County': 'College Station-Bryan, TX (Metropolitan Statistical Area)', 'Population': '272,041'}, {'GeoFips': '18580', 'County': 'Corpus Christi, TX (Metropolitan Statistical Area)', 'Population': '422,778'}, {'GeoFips': '19100', 'County': 'Dallas-Fort Worth-Arlington, TX (Metropolitan Statistical Area)', 'Population': '7,759,615'}, {'GeoFips': '21340', 'County': 'El Paso, TX (Metropolitan Statistical Area)', 'Population': '871,234'}, {'GeoFips': '26420', 'County': 'Houston-The Woodlands-Sugar Land, TX (Metropolitan Statistical Area)', 'Population': '7,206,841'}, {'GeoFips': '28660', 'County': 'Killeen-Temple, TX (Metropolitan Statistical Area)', 'Population': '486,101'}, {'GeoFips': '29700', 'County': 'Laredo, TX (Metropolitan Statistical Area)', 'Population': '267,945'}, {'GeoFips': '30980', 'County': 'Longview, TX (Metropolitan Statistical Area)', 'Population': '287,868'}, {'GeoFips': '31180', 'County': 'Lubbock, TX (Metropolitan Statistical Area)', 'Population': '325,245'}, {'GeoFips': '32580', 'County': 'McAllen-Edinburg-Mission, TX (Metropolitan Statistical Area)', 'Population': '880,356'}, {'GeoFips': '33260', 'County': 'Midland, TX (Metropolitan Statistical Area)', 'Population': '173,180'}, {'GeoFips': '36220', 'County': 'Odessa, TX (Metropolitan Statistical Area)', 'Population': '161,091'}, {'GeoFips': '41660', 'County': 'San Angelo, TX (Metropolitan Statistical Area)', 'Population': '122,344'}, {'GeoFips': '41700', 'County': 'San Antonio-New Braunfels, TX (Metropolitan Statistical Area)', 'Population': '2,601,788'}, {'GeoFips': '43300', 'County': 'Sherman-Denison, TX (Metropolitan Statistical Area)', 'Population': '139,336'}, {'GeoFips': '45500', 'County': 'Texarkana, TX-AR (Metropolitan Statistical Area)', 'Population': '147,174'}, {'GeoFips': '46340', 'County': 'Tyler, TX (Metropolitan Statistical Area)', 'Population': '237,186'}, {'GeoFips': '47020', 'County': 'Victoria, TX (Metropolitan Statistical Area)', 'Population': '98,127'}, {'GeoFips': '47380', 'County': 'Waco, TX (Metropolitan Statistical Area)', 'Population': '280,428'}, {'GeoFips': '48660', 'County': 'Wichita Falls, TX (Metropolitan Statistical Area)', 'Population': '149,013'}, {'GeoFips': '10860', 'County': 'Alice, TX (Micropolitan Statistical Area)', 'Population': '48,603'}, {'GeoFips': '11380', 'County': 'Andrews, TX (Micropolitan Statistical Area)', 'Population': '18,440'}, {'GeoFips': '11980', 'County': 'Athens, TX (Micropolitan Statistical Area)', 'Population': '83,667'}, {'GeoFips': '13060', 'County': 'Bay City, TX (Micropolitan Statistical Area)', 'Population': '36,344'}, {'GeoFips': '13300', 'County': 'Beeville, TX (Micropolitan Statistical Area)', 'Population': '30,924'}, {'GeoFips': '13700', 'County': 'Big Spring, TX (Micropolitan Statistical Area)', 'Population': '34,128'}, {'GeoFips': '14300', 'County': 'Bonham, TX (Micropolitan Statistical Area)', 'Population': '36,569'}, {'GeoFips': '14420', 'County': 'Borger, TX (Micropolitan Statistical Area)', 'Population': '20,495'}, {'GeoFips': '14780', 'County': 'Brenham, TX (Micropolitan Statistical Area)', 'Population': '35,891'}, {'GeoFips': '15220', 'County': 'Brownwood, TX (Micropolitan Statistical Area)', 'Population': '38,192'}, {'GeoFips': '18620', 'County': 'Corsicana, TX (Micropolitan Statistical Area)', 'Population': '53,591'}, {'GeoFips': '19620', 'County': 'Del Rio, TX (Micropolitan Statistical Area)', 'Population': '47,564'}, {'GeoFips': '20300', 'County': 'Dumas, TX (Micropolitan Statistical Area)', 'Population': '21,118'}, {'GeoFips': '20580', 'County': 'Eagle Pass, TX (Micropolitan Statistical Area)', 'Population': '58,056'}, {'GeoFips': '20900', 'County': 'El Campo, TX (Micropolitan Statistical Area)', 'Population': '41,721'}, {'GeoFips': '23240', 'County': 'Fredericksburg, TX (Micropolitan Statistical Area)', 'Population': '27,297'}, {'GeoFips': '23620', 'County': 'Gainesville, TX (Micropolitan Statistical Area)', 'Population': '42,244'}, {'GeoFips': '24180', 'County': 'Granbury, TX (Micropolitan Statistical Area)', 'Population': '64,222'}, {'GeoFips': '25820', 'County': 'Hereford, TX (Micropolitan Statistical Area)', 'Population': '18,329'}, {'GeoFips': '26660', 'County': 'Huntsville, TX (Micropolitan Statistical Area)', 'Population': '77,977'}, {'GeoFips': '27380', 'County': 'Jacksonville, TX (Micropolitan Statistical Area)', 'Population': '51,097'}, {'GeoFips': '28500', 'County': 'Kerrville, TX (Micropolitan Statistical Area)', 'Population': '53,161'}, {'GeoFips': '28780', 'County': 'Kingsville, TX (Micropolitan Statistical Area)', 'Population': '30,975'}, {'GeoFips': '29500', 'County': 'Lamesa, TX (Micropolitan Statistical Area)', 'Population': '12,413'}, {'GeoFips': '30220', 'County': 'Levelland, TX (Micropolitan Statistical Area)', 'Population': '21,363'}, {'GeoFips': '31260', 'County': 'Lufkin, TX (Micropolitan Statistical Area)', 'Population': '86,506'}, {'GeoFips': '33420', 'County': 'Mineral Wells, TX (Micropolitan Statistical Area)', 'Population': '28,686'}, {'GeoFips': '34420', 'County': 'Mount Pleasant, TX (Micropolitan Statistical Area)', 'Population': '43,799'}, {'GeoFips': '34860', 'County': 'Nacogdoches, TX (Micropolitan Statistical Area)', 'Population': '64,668'}, {'GeoFips': '37300', 'County': 'Palestine, TX (Micropolitan Statistical Area)', 'Population': '58,402'}, {'GeoFips': '37420', 'County': 'Pampa, TX (Micropolitan Statistical Area)', 'Population': '21,827'}, {'GeoFips': '37580', 'County': 'Paris, TX (Micropolitan Statistical Area)', 'Population': '50,098'}, {'GeoFips': '37770', 'County': 'Pearsall, TX (Micropolitan Statistical Area)', 'Population': '18,436'}, {'GeoFips': '37780', 'County': 'Pecos, TX (Micropolitan Statistical Area)', 'Population': '14,544'}, {'GeoFips': '38380', 'County': 'Plainview, TX (Micropolitan Statistical Area)', 'Population': '32,220'}, {'GeoFips': '38920', 'County': 'Port Lavaca, TX (Micropolitan Statistical Area)', 'Population': '19,727'}, {'GeoFips': '39700', 'County': 'Raymondville, TX (Micropolitan Statistical Area)', 'Population': '20,316'}, {'GeoFips': '40100', 'County': 'Rio Grande City-Roma, TX (Micropolitan Statistical Area)', 'Population': '66,049'}, {'GeoFips': '40530', 'County': 'Rockport, TX (Micropolitan Statistical Area)', 'Population': '24,510'}, {'GeoFips': '43660', 'County': 'Snyder, TX (Micropolitan Statistical Area)', 'Population': '16,824'}, {'GeoFips': '44500', 'County': 'Stephenville, TX (Micropolitan Statistical Area)', 'Population': '43,378'}, {'GeoFips': '44860', 'County': 'Sulphur Springs, TX (Micropolitan Statistical Area)', 'Population': '37,211'}, {'GeoFips': '45020', 'County': 'Sweetwater, TX (Micropolitan Statistical Area)', 'Population': '14,597'}, {'GeoFips': '46620', 'County': 'Uvalde, TX (Micropolitan Statistical Area)', 'Population': '24,729'}, {'GeoFips': '46900', 'County': 'Vernon, TX (Micropolitan Statistical Area)', 'Population': '12,731'}, {'GeoFips': '49820', 'County': 'Zapata, TX (Micropolitan Statistical Area)', 'Population': '13,908'}, {'GeoFips': '89108', 'County': 'Amarillo-Pampa-Borger, TX (Combined Statistical Area)', 'Population': '312,025'}, {'GeoFips': '89154', 'County': 'Brownsville-Harlingen-Raymondville, TX (Combined Statistical Area)', 'Population': '443,345'}, {'GeoFips': '89204', 'County': 'Corpus Christi-Kingsville-Alice, TX (Combined Statistical Area)', 'Population': '526,866'}, {'GeoFips': '89206', 'County': 'Dallas-Fort Worth, TX-OK (Combined Statistical Area)', 'Population': '8,255,035'}, {'GeoFips': '89238', 'County': 'El Paso-Las Cruces, TX-NM (Combined Statistical Area)', 'Population': '1,092,742'}, {'GeoFips': '89288', 'County': 'Houston-The Woodlands, TX (Combined Statistical Area)', 'Population': '7,398,774'}, {'GeoFips': '89314', 'County': 'Kerrville-Fredericksburg, TX (Combined Statistical Area)', 'Population': '80,458'}, {'GeoFips': '89352', 'County': 'Lubbock-Plainview-Levelland, TX (Combined Statistical Area)', 'Population': '378,828'}, {'GeoFips': '89365', 'County': 'McAllen-Edinburg, TX (Combined Statistical Area)', 'Population': '946,405'}, {'GeoFips': '89372', 'County': 'Midland-Odessa, TX (Combined Statistical Area)', 'Population': '334,271'}, {'GeoFips': '89484', 'County': 'San Antonio-New Braunfels-Pearsall, TX (Combined Statistical Area)', 'Population': '2,620,224'}, {'GeoFips': '89540', 'County': 'Tyler-Jacksonville, TX (Combined Statistical Area)', 'Population': '288,283'}, {'GeoFips': '89544', 'County': 'Victoria-Port Lavaca, TX (Combined Statistical Area)', 'Population': '117,854'}, {'GeoFips': '19124', 'County': 'Dallas-Plano-Irving, TX (Metropolitan Division)', 'Population': '5,217,380'}, {'GeoFips': '23104', 'County': 'Fort Worth-Arlington-Grapevine, TX (Metropolitan Division)', 'Population': '2,542,235'}]\n"
     ]
    }
   ],
   "source": [
    "table2 = soup.find(\"table\", id=\"DataTbl\")\n",
    "\n",
    "#Create a list of dictionaries \n",
    "if table2:\n",
    "    population = []  \n",
    "    \n",
    "    rows = table2.find(\"tbody\").find_all(\"tr\")\n",
    "\n",
    "    for row in rows:\n",
    "        cells = row.find_all(\"td\")  \n",
    "\n",
    "        if len(cells) == 3: \n",
    "            geo_fips = cells[0].text.strip()\n",
    "            geo_name = cells[1].text.strip()\n",
    "            population_2021 = cells[2].text.strip()\n",
    "            \n",
    "            row_data = {\n",
    "                \"GeoFips\": geo_fips,\n",
    "                \"County\": geo_name,\n",
    "                \"Population\": population_2021\n",
    "            }\n",
    "            population.append(row_data)\n",
    "    \n",
    "    print(population)\n",
    "else:\n",
    "    print(\"Table with id 'DataTbl' not found.\")"
   ]
  },
  {
   "cell_type": "code",
   "execution_count": 14,
   "metadata": {
    "tags": []
   },
   "outputs": [],
   "source": [
    "#Export population into a json file\n",
    "\n",
    "file_path = os.path.join(\"json_files\", \"population_data.json\")\n",
    "\n",
    "with open(file_path, \"w\") as json_file:\n",
    "    json.dump(population, json_file, indent=4)"
   ]
  },
  {
   "cell_type": "code",
   "execution_count": 15,
   "metadata": {
    "tags": []
   },
   "outputs": [],
   "source": [
    "browser.quit()"
   ]
  },
  {
   "cell_type": "markdown",
   "metadata": {
    "tags": []
   },
   "source": [
    "# Project 3 Creating Dataframes from Scraped Data"
   ]
  },
  {
   "cell_type": "code",
   "execution_count": 16,
   "metadata": {
    "tags": []
   },
   "outputs": [
    {
     "data": {
      "text/html": [
       "<div>\n",
       "<style scoped>\n",
       "    .dataframe tbody tr th:only-of-type {\n",
       "        vertical-align: middle;\n",
       "    }\n",
       "\n",
       "    .dataframe tbody tr th {\n",
       "        vertical-align: top;\n",
       "    }\n",
       "\n",
       "    .dataframe thead th {\n",
       "        text-align: right;\n",
       "    }\n",
       "</style>\n",
       "<table border=\"1\" class=\"dataframe\">\n",
       "  <thead>\n",
       "    <tr style=\"text-align: right;\">\n",
       "      <th></th>\n",
       "      <th>GeoFips</th>\n",
       "      <th>County</th>\n",
       "      <th>2021_Income</th>\n",
       "    </tr>\n",
       "  </thead>\n",
       "  <tbody>\n",
       "    <tr>\n",
       "      <th>0</th>\n",
       "      <td>48000</td>\n",
       "      <td>Texas</td>\n",
       "      <td>59,865</td>\n",
       "    </tr>\n",
       "    <tr>\n",
       "      <th>1</th>\n",
       "      <td>48001</td>\n",
       "      <td>Anderson, TX</td>\n",
       "      <td>42,444</td>\n",
       "    </tr>\n",
       "    <tr>\n",
       "      <th>2</th>\n",
       "      <td>48003</td>\n",
       "      <td>Andrews, TX</td>\n",
       "      <td>52,943</td>\n",
       "    </tr>\n",
       "    <tr>\n",
       "      <th>3</th>\n",
       "      <td>48005</td>\n",
       "      <td>Angelina, TX</td>\n",
       "      <td>46,170</td>\n",
       "    </tr>\n",
       "    <tr>\n",
       "      <th>4</th>\n",
       "      <td>48007</td>\n",
       "      <td>Aransas, TX</td>\n",
       "      <td>59,878</td>\n",
       "    </tr>\n",
       "  </tbody>\n",
       "</table>\n",
       "</div>"
      ],
      "text/plain": [
       "  GeoFips        County 2021_Income\n",
       "0   48000         Texas      59,865\n",
       "1   48001  Anderson, TX      42,444\n",
       "2   48003   Andrews, TX      52,943\n",
       "3   48005  Angelina, TX      46,170\n",
       "4   48007   Aransas, TX      59,878"
      ]
     },
     "execution_count": 16,
     "metadata": {},
     "output_type": "execute_result"
    }
   ],
   "source": [
    "# Put Data into DataFrame\n",
    "income_df = pd.DataFrame(personal_income)\n",
    "income_df.head()"
   ]
  },
  {
   "cell_type": "code",
   "execution_count": 17,
   "metadata": {
    "tags": []
   },
   "outputs": [],
   "source": [
    "#Drop The Texas Row\n",
    "income_df = income_df.drop(0)\n",
    "\n",
    "#Reset the Index\n",
    "income_df = income_df.reset_index(drop=True)\n"
   ]
  },
  {
   "cell_type": "code",
   "execution_count": 18,
   "metadata": {
    "tags": []
   },
   "outputs": [
    {
     "data": {
      "text/html": [
       "<div>\n",
       "<style scoped>\n",
       "    .dataframe tbody tr th:only-of-type {\n",
       "        vertical-align: middle;\n",
       "    }\n",
       "\n",
       "    .dataframe tbody tr th {\n",
       "        vertical-align: top;\n",
       "    }\n",
       "\n",
       "    .dataframe thead th {\n",
       "        text-align: right;\n",
       "    }\n",
       "</style>\n",
       "<table border=\"1\" class=\"dataframe\">\n",
       "  <thead>\n",
       "    <tr style=\"text-align: right;\">\n",
       "      <th></th>\n",
       "      <th>GeoFips</th>\n",
       "      <th>County</th>\n",
       "      <th>2021_Income</th>\n",
       "    </tr>\n",
       "  </thead>\n",
       "  <tbody>\n",
       "    <tr>\n",
       "      <th>0</th>\n",
       "      <td>48001</td>\n",
       "      <td>Anderson, TX</td>\n",
       "      <td>42,444</td>\n",
       "    </tr>\n",
       "    <tr>\n",
       "      <th>1</th>\n",
       "      <td>48003</td>\n",
       "      <td>Andrews, TX</td>\n",
       "      <td>52,943</td>\n",
       "    </tr>\n",
       "    <tr>\n",
       "      <th>2</th>\n",
       "      <td>48005</td>\n",
       "      <td>Angelina, TX</td>\n",
       "      <td>46,170</td>\n",
       "    </tr>\n",
       "    <tr>\n",
       "      <th>3</th>\n",
       "      <td>48007</td>\n",
       "      <td>Aransas, TX</td>\n",
       "      <td>59,878</td>\n",
       "    </tr>\n",
       "    <tr>\n",
       "      <th>4</th>\n",
       "      <td>48009</td>\n",
       "      <td>Archer, TX</td>\n",
       "      <td>60,101</td>\n",
       "    </tr>\n",
       "  </tbody>\n",
       "</table>\n",
       "</div>"
      ],
      "text/plain": [
       "  GeoFips        County 2021_Income\n",
       "0   48001  Anderson, TX      42,444\n",
       "1   48003   Andrews, TX      52,943\n",
       "2   48005  Angelina, TX      46,170\n",
       "3   48007   Aransas, TX      59,878\n",
       "4   48009    Archer, TX      60,101"
      ]
     },
     "execution_count": 18,
     "metadata": {},
     "output_type": "execute_result"
    }
   ],
   "source": [
    "income_df.head()"
   ]
  },
  {
   "cell_type": "code",
   "execution_count": 19,
   "metadata": {
    "tags": []
   },
   "outputs": [
    {
     "data": {
      "text/plain": [
       "<bound method DataFrame.dropna of     GeoFips                                             County 2021_Income\n",
       "0     48001                                       Anderson, TX      42,444\n",
       "1     48003                                        Andrews, TX      52,943\n",
       "2     48005                                       Angelina, TX      46,170\n",
       "3     48007                                        Aransas, TX      59,878\n",
       "4     48009                                         Archer, TX      60,101\n",
       "..      ...                                                ...         ...\n",
       "337   89484  San Antonio-New Braunfels-Pearsall, TX (Combin...      53,551\n",
       "338   89540  Tyler-Jacksonville, TX (Combined Statistical A...      57,287\n",
       "339   89544  Victoria-Port Lavaca, TX (Combined Statistical...      58,679\n",
       "340   19124    Dallas-Plano-Irving, TX (Metropolitan Division)      70,662\n",
       "341   23104  Fort Worth-Arlington-Grapevine, TX (Metropolit...      58,653\n",
       "\n",
       "[342 rows x 3 columns]>"
      ]
     },
     "execution_count": 19,
     "metadata": {},
     "output_type": "execute_result"
    }
   ],
   "source": [
    "#drop any NA data\n",
    "income_df.dropna"
   ]
  },
  {
   "cell_type": "code",
   "execution_count": 20,
   "metadata": {
    "tags": []
   },
   "outputs": [
    {
     "data": {
      "text/plain": [
       "GeoFips        342\n",
       "County         342\n",
       "2021_Income    342\n",
       "dtype: int64"
      ]
     },
     "execution_count": 20,
     "metadata": {},
     "output_type": "execute_result"
    }
   ],
   "source": [
    "income_df.count()"
   ]
  },
  {
   "cell_type": "code",
   "execution_count": 21,
   "metadata": {},
   "outputs": [
    {
     "data": {
      "text/html": [
       "<div>\n",
       "<style scoped>\n",
       "    .dataframe tbody tr th:only-of-type {\n",
       "        vertical-align: middle;\n",
       "    }\n",
       "\n",
       "    .dataframe tbody tr th {\n",
       "        vertical-align: top;\n",
       "    }\n",
       "\n",
       "    .dataframe thead th {\n",
       "        text-align: right;\n",
       "    }\n",
       "</style>\n",
       "<table border=\"1\" class=\"dataframe\">\n",
       "  <thead>\n",
       "    <tr style=\"text-align: right;\">\n",
       "      <th></th>\n",
       "      <th>GeoFips</th>\n",
       "      <th>County</th>\n",
       "      <th>Population</th>\n",
       "    </tr>\n",
       "  </thead>\n",
       "  <tbody>\n",
       "    <tr>\n",
       "      <th>0</th>\n",
       "      <td>48000</td>\n",
       "      <td>Texas</td>\n",
       "      <td>29,527,941</td>\n",
       "    </tr>\n",
       "    <tr>\n",
       "      <th>1</th>\n",
       "      <td>48001</td>\n",
       "      <td>Anderson, TX</td>\n",
       "      <td>58,402</td>\n",
       "    </tr>\n",
       "    <tr>\n",
       "      <th>2</th>\n",
       "      <td>48003</td>\n",
       "      <td>Andrews, TX</td>\n",
       "      <td>18,440</td>\n",
       "    </tr>\n",
       "    <tr>\n",
       "      <th>3</th>\n",
       "      <td>48005</td>\n",
       "      <td>Angelina, TX</td>\n",
       "      <td>86,506</td>\n",
       "    </tr>\n",
       "    <tr>\n",
       "      <th>4</th>\n",
       "      <td>48007</td>\n",
       "      <td>Aransas, TX</td>\n",
       "      <td>24,510</td>\n",
       "    </tr>\n",
       "  </tbody>\n",
       "</table>\n",
       "</div>"
      ],
      "text/plain": [
       "  GeoFips        County  Population\n",
       "0   48000         Texas  29,527,941\n",
       "1   48001  Anderson, TX      58,402\n",
       "2   48003   Andrews, TX      18,440\n",
       "3   48005  Angelina, TX      86,506\n",
       "4   48007   Aransas, TX      24,510"
      ]
     },
     "execution_count": 21,
     "metadata": {},
     "output_type": "execute_result"
    }
   ],
   "source": [
    "population_df = pd.DataFrame(population)\n",
    "population_df.head()"
   ]
  },
  {
   "cell_type": "code",
   "execution_count": 22,
   "metadata": {
    "tags": []
   },
   "outputs": [],
   "source": [
    "#Drop The Texas Row\n",
    "population_df = population_df.drop(0)\n",
    "\n",
    "#Reset the Index\n",
    "population_df = population_df.reset_index(drop=True)"
   ]
  },
  {
   "cell_type": "code",
   "execution_count": 23,
   "metadata": {
    "tags": []
   },
   "outputs": [
    {
     "data": {
      "text/plain": [
       "<bound method DataFrame.dropna of     GeoFips                                             County Population\n",
       "0     48001                                       Anderson, TX     58,402\n",
       "1     48003                                        Andrews, TX     18,440\n",
       "2     48005                                       Angelina, TX     86,506\n",
       "3     48007                                        Aransas, TX     24,510\n",
       "4     48009                                         Archer, TX      8,681\n",
       "..      ...                                                ...        ...\n",
       "337   89484  San Antonio-New Braunfels-Pearsall, TX (Combin...  2,620,224\n",
       "338   89540  Tyler-Jacksonville, TX (Combined Statistical A...    288,283\n",
       "339   89544  Victoria-Port Lavaca, TX (Combined Statistical...    117,854\n",
       "340   19124    Dallas-Plano-Irving, TX (Metropolitan Division)  5,217,380\n",
       "341   23104  Fort Worth-Arlington-Grapevine, TX (Metropolit...  2,542,235\n",
       "\n",
       "[342 rows x 3 columns]>"
      ]
     },
     "execution_count": 23,
     "metadata": {},
     "output_type": "execute_result"
    }
   ],
   "source": [
    "population_df.dropna"
   ]
  },
  {
   "cell_type": "code",
   "execution_count": 24,
   "metadata": {
    "tags": []
   },
   "outputs": [
    {
     "data": {
      "text/plain": [
       "GeoFips       342\n",
       "County        342\n",
       "Population    342\n",
       "dtype: int64"
      ]
     },
     "execution_count": 24,
     "metadata": {},
     "output_type": "execute_result"
    }
   ],
   "source": [
    "population_df.count()"
   ]
  },
  {
   "cell_type": "markdown",
   "metadata": {
    "tags": []
   },
   "source": [
    "# Project 3 Importing Json Files into a MongoDB Database\n",
    "\n",
    "Income Import: mongoimport --type json -d Project_3_DB -c Income --drop --jsonArray ./json_files/income_data.json\n",
    "\n",
    "Population Import: mongoimport --type json -d Project_3_DB -c Population --drop --jsonArray ./json_files/population_data.json"
   ]
  },
  {
   "cell_type": "code",
   "execution_count": 25,
   "metadata": {
    "tags": []
   },
   "outputs": [],
   "source": [
    "#Importing Pymongo Dependencies\n",
    "from pymongo import MongoClient"
   ]
  },
  {
   "cell_type": "code",
   "execution_count": 26,
   "metadata": {
    "tags": []
   },
   "outputs": [],
   "source": [
    "# Create an instance of MongoClient\n",
    "mongo = MongoClient(port=27017)"
   ]
  },
  {
   "cell_type": "code",
   "execution_count": 27,
   "metadata": {
    "tags": []
   },
   "outputs": [
    {
     "name": "stdout",
     "output_type": "stream",
     "text": [
      "['Project_3_DB', 'admin', 'autosaurus', 'classDB', 'config', 'epa', 'fruits_db', 'local', 'met', 'petsitly_marketing', 'uk_food']\n"
     ]
    }
   ],
   "source": [
    "print(mongo.list_database_names())"
   ]
  },
  {
   "cell_type": "code",
   "execution_count": 28,
   "metadata": {
    "tags": []
   },
   "outputs": [],
   "source": [
    "db = mongo['Project_3_DB']"
   ]
  },
  {
   "cell_type": "code",
   "execution_count": 29,
   "metadata": {
    "tags": []
   },
   "outputs": [
    {
     "name": "stdout",
     "output_type": "stream",
     "text": [
      "['Population', 'Income']\n"
     ]
    }
   ],
   "source": [
    "print(db.list_collection_names())"
   ]
  },
  {
   "cell_type": "code",
   "execution_count": 30,
   "metadata": {
    "tags": []
   },
   "outputs": [
    {
     "data": {
      "text/plain": [
       "{'_id': ObjectId('651c364cb2502fe58dfebce6'),\n",
       " 'GeoFips': '48013',\n",
       " 'County': 'Atascosa, TX',\n",
       " 'Population': '49,939'}"
      ]
     },
     "execution_count": 30,
     "metadata": {},
     "output_type": "execute_result"
    }
   ],
   "source": [
    "db.Population.find_one()"
   ]
  },
  {
   "cell_type": "code",
   "execution_count": 31,
   "metadata": {
    "tags": []
   },
   "outputs": [
    {
     "data": {
      "text/plain": [
       "{'_id': ObjectId('651c34dc443a2d5d52bc6631'),\n",
       " 'GeoFips': '48003',\n",
       " 'County': 'Andrews, TX',\n",
       " '2021_Income': '52,943'}"
      ]
     },
     "execution_count": 31,
     "metadata": {},
     "output_type": "execute_result"
    }
   ],
   "source": [
    "db.Income.find_one()"
   ]
  },
  {
   "cell_type": "markdown",
   "metadata": {},
   "source": [
    "# Project 3 Combining Json files"
   ]
  },
  {
   "cell_type": "code",
   "execution_count": 32,
   "metadata": {
    "tags": []
   },
   "outputs": [],
   "source": [
    "#Open Json files\n",
    "with open('json_files/income_data.json', 'r') as income_file:\n",
    "    income_data = json.load(income_file)\n",
    "\n",
    "with open('json_files/population_data.json', 'r') as population_file:\n",
    "    population_data = json.load(population_file)"
   ]
  },
  {
   "cell_type": "code",
   "execution_count": 33,
   "metadata": {
    "tags": []
   },
   "outputs": [],
   "source": [
    "combined_data = {}"
   ]
  },
  {
   "cell_type": "code",
   "execution_count": 34,
   "metadata": {
    "tags": []
   },
   "outputs": [],
   "source": [
    "#Push geo fips, county, and income data into the combined_data dictionary using GeoFips\n",
    "\n",
    "for income_record in income_data:\n",
    "    geo_fips = income_record['GeoFips']\n",
    "    combined_data[geo_fips] = {\n",
    "        'GeoFips': geo_fips,\n",
    "        'County': income_record['County'],\n",
    "        'Income': income_record['2021_Income']\n",
    "    }"
   ]
  },
  {
   "cell_type": "code",
   "execution_count": 35,
   "metadata": {
    "tags": []
   },
   "outputs": [],
   "source": [
    "#Push only population data into the combined_data dictionary where the geofips are the same\n",
    "for population_record in population_data:\n",
    "    geo_fips = population_record['GeoFips']\n",
    "    if geo_fips in combined_data:\n",
    "        combined_data[geo_fips]['Population'] = population_record['Population']\n"
   ]
  },
  {
   "cell_type": "code",
   "execution_count": 36,
   "metadata": {
    "tags": []
   },
   "outputs": [],
   "source": [
    "#Put these dictionaries into an array\n",
    "combined_data_list = list(combined_data.values())"
   ]
  },
  {
   "cell_type": "code",
   "execution_count": 37,
   "metadata": {
    "tags": []
   },
   "outputs": [],
   "source": [
    "#Put the data into a json file\n",
    "with open('combined_data.json', 'w') as combined_file:\n",
    "    json.dump(combined_data_list, combined_file, indent=4)"
   ]
  },
  {
   "cell_type": "code",
   "execution_count": 38,
   "metadata": {},
   "outputs": [],
   "source": [
    "#Open combined_data json\n",
    "with open('json_files/combined_data.json', 'r') as json_file:\n",
    "    data = json.load(json_file)\n",
    "\n",
    "# Create the JavaScript array string\n",
    "js_array = \"let countyData = \" + json.dumps(data, indent=4) + \";\"\n",
    "\n",
    "#Make the file path to where the folder should go\n",
    "js_file_path = os.path.join('static', 'js', 'data.js')\n",
    "\n",
    "#Open new js file in the correct file\n",
    "with open(js_file_path, 'w') as js_file:\n",
    "    js_file.write(js_array)"
   ]
  },
  {
   "cell_type": "code",
   "execution_count": null,
   "metadata": {},
   "outputs": [],
   "source": []
  }
 ],
 "metadata": {
  "kernelspec": {
   "display_name": "Python 3 (ipykernel)",
   "language": "python",
   "name": "python3"
  },
  "language_info": {
   "codemirror_mode": {
    "name": "ipython",
    "version": 3
   },
   "file_extension": ".py",
   "mimetype": "text/x-python",
   "name": "python",
   "nbconvert_exporter": "python",
   "pygments_lexer": "ipython3",
   "version": "3.10.11"
  },
  "vscode": {
   "interpreter": {
    "hash": "31f2aee4e71d21fbe5cf8b01ff0e069b9275f58929596ceb00d14d90e3e16cd6"
   }
  }
 },
 "nbformat": 4,
 "nbformat_minor": 4
}
